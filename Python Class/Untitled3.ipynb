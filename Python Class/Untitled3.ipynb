{
 "cells": [
  {
   "cell_type": "code",
   "execution_count": 2,
   "id": "0bba579d",
   "metadata": {},
   "outputs": [],
   "source": [
    "def at_gc(st):\n",
    "    at = 0\n",
    "    gc = 0\n",
    "    st = st.upper()\n",
    "    for ch in st:\n",
    "        if ch == \"G\" or ch == \"C\":\n",
    "            gc += 1\n",
    "        if ch == \"A\" or ch == \"T\":\n",
    "            at += 1\n",
    "    return (at, gc)"
   ]
  },
  {
   "cell_type": "markdown",
   "id": "4ea42ea5",
   "metadata": {},
   "source": [
    "st = \"GATACCA\"\n",
    "\n",
    "ctrl forward slash to comment and uncomment lines\n",
    "\n"
   ]
  },
  {
   "cell_type": "code",
   "execution_count": 4,
   "id": "2e005abc",
   "metadata": {},
   "outputs": [],
   "source": [
    "def at_gc_fasta(file_name):\n",
    "    f = open(file_name, \"rt\") #read file\n",
    "    AT = 0\n",
    "    GC = 0\n",
    "    ln = f.readline() #reads file one line at a time (One line is read)\n",
    "    while ln:#while line is not empty\n",
    "        if ln[0] != '>': #[]0 means first character\n",
    "            at,gc = at_gc(ln)\n",
    "            AT += at\n",
    "            GC += gc\n",
    "        ln=f.readline() #read next line\n",
    "    f.close() #close file\n",
    "    return (AT,GC) #return counts as tupple"
   ]
  },
  {
   "cell_type": "code",
   "execution_count": 6,
   "id": "ab8ab22b",
   "metadata": {},
   "outputs": [
    {
     "ename": "SyntaxError",
     "evalue": "unexpected EOF while parsing (<ipython-input-6-2105c9110976>, line 1)",
     "output_type": "error",
     "traceback": [
      "\u001b[1;36m  File \u001b[1;32m\"<ipython-input-6-2105c9110976>\"\u001b[1;36m, line \u001b[1;32m1\u001b[0m\n\u001b[1;33m    print('fraction AT {0:3F}, fraction GC {0:3F}',\u001b[0m\n\u001b[1;37m                                                   ^\u001b[0m\n\u001b[1;31mSyntaxError\u001b[0m\u001b[1;31m:\u001b[0m unexpected EOF while parsing\n"
     ]
    }
   ],
   "source": [
    "#print('fraction AT {0:3F}, fraction GC {0:3F}',"
   ]
  },
  {
   "cell_type": "code",
   "execution_count": null,
   "id": "2b78747a",
   "metadata": {},
   "outputs": [],
   "source": [
    "def nucleotide_frequencies(st):\n",
    "    a = 0\n",
    "    t = 0\n",
    "    c = 0\n",
    "    g = 0\n",
    "    for c in st:\n",
    "        if ch == \"a\" or ch == \"A\":\n",
    "            a += 1\n",
    "        if ch == \"t\" or ch == \"T\":\n",
    "            t += 1\n",
    "        if ch == \"c\" or ch == \"C\":\n",
    "            c += 1\n",
    "        if ch == \"g\" or ch == \"G\":\n",
    "            g += 1\n",
    "    return (a,t,c,g)"
   ]
  }
 ],
 "metadata": {
  "kernelspec": {
   "display_name": "Python 3",
   "language": "python",
   "name": "python3"
  },
  "language_info": {
   "codemirror_mode": {
    "name": "ipython",
    "version": 3
   },
   "file_extension": ".py",
   "mimetype": "text/x-python",
   "name": "python",
   "nbconvert_exporter": "python",
   "pygments_lexer": "ipython3",
   "version": "3.8.8"
  }
 },
 "nbformat": 4,
 "nbformat_minor": 5
}

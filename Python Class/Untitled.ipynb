{
 "cells": [
  {
   "cell_type": "markdown",
   "id": "7ceb2d5f",
   "metadata": {},
   "source": [
    "classes combine functions and data. Classes can simplify user interfaces and help in program design."
   ]
  },
  {
   "cell_type": "code",
   "execution_count": 1,
   "id": "adc27589",
   "metadata": {},
   "outputs": [
    {
     "name": "stdout",
     "output_type": "stream",
     "text": [
      "hello\n"
     ]
    },
    {
     "data": {
      "text/plain": [
       "'HELLO'"
      ]
     },
     "execution_count": 1,
     "metadata": {},
     "output_type": "execute_result"
    }
   ],
   "source": [
    "# functions vs methods\n",
    "st = 'hello'\n",
    "print(st)\n",
    "st.upper()"
   ]
  },
  {
   "cell_type": "markdown",
   "id": "6190903d",
   "metadata": {},
   "source": [
    "## Key Terminology\n",
    "a class is like a data type: 'str'\n",
    "\n",
    "\"upper\" is a method of class str\n",
    "\n",
    "st is an object or instance of class str\n"
   ]
  },
  {
   "cell_type": "code",
   "execution_count": 20,
   "id": "894bc8c2",
   "metadata": {},
   "outputs": [],
   "source": [
    "class greeting:\n",
    "    \"\"\"This class enables the creation of customizable greetings\"\"\"\n",
    "    def __init__(self, greet_str = \"Hello\"): # constructor\n",
    "        self.greeting_line = greet_str + ' '\n",
    "    def hello(self, name): # method\n",
    "        print(self.greeting_line+name+\"!\")\n",
    "        "
   ]
  },
  {
   "cell_type": "code",
   "execution_count": 21,
   "id": "3a66411c",
   "metadata": {},
   "outputs": [
    {
     "name": "stdout",
     "output_type": "stream",
     "text": [
      "This class enables the creation of customizable greetings\n"
     ]
    }
   ],
   "source": [
    "print(greeting.__doc__)"
   ]
  },
  {
   "cell_type": "code",
   "execution_count": 22,
   "id": "36bcc15d",
   "metadata": {},
   "outputs": [],
   "source": [
    "regular_greeting = greeting() # calls constructor"
   ]
  },
  {
   "cell_type": "code",
   "execution_count": 23,
   "id": "55b859a8",
   "metadata": {},
   "outputs": [
    {
     "data": {
      "text/plain": [
       "<__main__.greeting at 0x20cb9fe6580>"
      ]
     },
     "execution_count": 23,
     "metadata": {},
     "output_type": "execute_result"
    }
   ],
   "source": [
    "regular_greeting"
   ]
  },
  {
   "cell_type": "code",
   "execution_count": 25,
   "id": "6bc28d50",
   "metadata": {},
   "outputs": [
    {
     "data": {
      "text/plain": [
       "'Hello '"
      ]
     },
     "execution_count": 25,
     "metadata": {},
     "output_type": "execute_result"
    }
   ],
   "source": [
    "regular_greeting.greeting_line"
   ]
  },
  {
   "cell_type": "code",
   "execution_count": 26,
   "id": "26dc1e72",
   "metadata": {},
   "outputs": [
    {
     "data": {
      "text/plain": [
       "<bound method greeting.hello of <__main__.greeting object at 0x0000020CB9FE6580>>"
      ]
     },
     "execution_count": 26,
     "metadata": {},
     "output_type": "execute_result"
    }
   ],
   "source": [
    "regular_greeting.hello"
   ]
  },
  {
   "cell_type": "code",
   "execution_count": 27,
   "id": "8d11fbfb",
   "metadata": {},
   "outputs": [
    {
     "name": "stdout",
     "output_type": "stream",
     "text": [
      "Hello world!\n"
     ]
    }
   ],
   "source": [
    "regular_greeting.hello('world')"
   ]
  },
  {
   "cell_type": "code",
   "execution_count": 28,
   "id": "7fa4836d",
   "metadata": {},
   "outputs": [],
   "source": [
    "informal_greeting = greeting(\"What's up\")"
   ]
  },
  {
   "cell_type": "code",
   "execution_count": 30,
   "id": "7954a1f4",
   "metadata": {},
   "outputs": [
    {
     "name": "stdout",
     "output_type": "stream",
     "text": [
      "Hello Students!\n",
      "What's up Students!\n"
     ]
    }
   ],
   "source": [
    "regular_greeting.hello('Students')\n",
    "informal_greeting.hello('Students')"
   ]
  },
  {
   "cell_type": "code",
   "execution_count": 31,
   "id": "37ac4592",
   "metadata": {},
   "outputs": [],
   "source": [
    "Flag = True"
   ]
  },
  {
   "cell_type": "code",
   "execution_count": 32,
   "id": "40906814",
   "metadata": {},
   "outputs": [],
   "source": [
    "if Flag:\n",
    "    my_greeting = regular_greeting\n",
    "else:\n",
    "    my_greeting = informal_greeting\n"
   ]
  },
  {
   "cell_type": "code",
   "execution_count": 33,
   "id": "d6012efb",
   "metadata": {},
   "outputs": [
    {
     "name": "stdout",
     "output_type": "stream",
     "text": [
      "Hello Class!\n"
     ]
    }
   ],
   "source": [
    "my_greeting.hello('Class')"
   ]
  },
  {
   "cell_type": "code",
   "execution_count": 43,
   "id": "77e0202b",
   "metadata": {},
   "outputs": [],
   "source": [
    "class customer_interactions:\n",
    "    \"\"\"This class enables using customer names in a few default phrases.\"\"\"\n",
    "    def __init__(self, name = 'Customer'):\n",
    "        self.name = name\n",
    "    def hello(self, st = 'Dear '):\n",
    "        print(st+self.name+\",\\n\")\n",
    "    def hello_prof(slef, st = 'Dear Prof. '):\n",
    "        print(st+sel.name+',\\n')\n",
    "    def goodbye(self, st = 'Thank you for shopping with us '):\n",
    "        print(st+self.name+'!\\n')"
   ]
  },
  {
   "cell_type": "code",
   "execution_count": 44,
   "id": "a029b7a9",
   "metadata": {},
   "outputs": [],
   "source": [
    "class counter:\n",
    "    def __init__(self):\n",
    "        self.values = []\n",
    "    def push(self,value):\n",
    "        self.values.append(value)\n",
    "    def get_values(self):\n",
    "        self.values = list(self.values)\n",
    "        return self.values\n",
    "    def total(self):\n",
    "        return sum(self.values)\n",
    "    def average(self):\n",
    "        return self.total()/len(self.values)\n",
    "    "
   ]
  },
  {
   "cell_type": "code",
   "execution_count": 45,
   "id": "c883ecee",
   "metadata": {},
   "outputs": [],
   "source": [
    "my_counter = counter()"
   ]
  },
  {
   "cell_type": "code",
   "execution_count": 46,
   "id": "211cba4e",
   "metadata": {},
   "outputs": [
    {
     "data": {
      "text/plain": [
       "[]"
      ]
     },
     "execution_count": 46,
     "metadata": {},
     "output_type": "execute_result"
    }
   ],
   "source": [
    "my_counter.get_values()"
   ]
  },
  {
   "cell_type": "code",
   "execution_count": 47,
   "id": "5adf18c4",
   "metadata": {},
   "outputs": [],
   "source": [
    "my_counter.push(1)"
   ]
  },
  {
   "cell_type": "code",
   "execution_count": 48,
   "id": "f02eb1e0",
   "metadata": {},
   "outputs": [],
   "source": [
    "my_counter.push(2)\n",
    "my_counter.push(50)\n"
   ]
  },
  {
   "cell_type": "code",
   "execution_count": 49,
   "id": "958924d1",
   "metadata": {},
   "outputs": [
    {
     "data": {
      "text/plain": [
       "53"
      ]
     },
     "execution_count": 49,
     "metadata": {},
     "output_type": "execute_result"
    }
   ],
   "source": [
    "my_counter.total()"
   ]
  },
  {
   "cell_type": "code",
   "execution_count": 50,
   "id": "3a68b6ea",
   "metadata": {},
   "outputs": [
    {
     "data": {
      "text/plain": [
       "17.666666666666668"
      ]
     },
     "execution_count": 50,
     "metadata": {},
     "output_type": "execute_result"
    }
   ],
   "source": [
    "my_counter.average()"
   ]
  },
  {
   "cell_type": "code",
   "execution_count": 52,
   "id": "d9d3ef7e",
   "metadata": {},
   "outputs": [],
   "source": [
    "class mf():\n",
    "    def __init__(self,num):\n",
    "        self.num = num\n",
    "    def fun(self,x):\n",
    "        def f(y):\n",
    "            return y*x\n",
    "        return f"
   ]
  },
  {
   "cell_type": "code",
   "execution_count": 53,
   "id": "290c0c76",
   "metadata": {},
   "outputs": [],
   "source": [
    "F = mf(50)\n",
    "new_fun = F.fun(100)"
   ]
  },
  {
   "cell_type": "code",
   "execution_count": 54,
   "id": "015a28dd",
   "metadata": {},
   "outputs": [
    {
     "data": {
      "text/plain": [
       "300"
      ]
     },
     "execution_count": 54,
     "metadata": {},
     "output_type": "execute_result"
    }
   ],
   "source": [
    "new_fun(3)"
   ]
  },
  {
   "cell_type": "code",
   "execution_count": 55,
   "id": "1a445b11",
   "metadata": {},
   "outputs": [
    {
     "data": {
      "text/plain": [
       "100"
      ]
     },
     "execution_count": 55,
     "metadata": {},
     "output_type": "execute_result"
    }
   ],
   "source": [
    "F.fun(50)(2)"
   ]
  },
  {
   "cell_type": "code",
   "execution_count": 56,
   "id": "7fc953e9",
   "metadata": {},
   "outputs": [],
   "source": [
    "class cid:\n",
    "    id = 0\n",
    "    def __init__(self, iid):\n",
    "        id = iid"
   ]
  },
  {
   "cell_type": "code",
   "execution_count": 57,
   "id": "01a2d30d",
   "metadata": {},
   "outputs": [
    {
     "name": "stdout",
     "output_type": "stream",
     "text": [
      "0 0 0\n"
     ]
    }
   ],
   "source": [
    "a = cid(1)\n",
    "b = cid(2)\n",
    "c = cid(3)\n",
    "print(a.id,b.id,c.id)"
   ]
  },
  {
   "cell_type": "code",
   "execution_count": 58,
   "id": "faedd7ae",
   "metadata": {},
   "outputs": [],
   "source": [
    "class sid:\n",
    "    id = 0\n",
    "    def __init__(self,iid):\n",
    "        self.id =iid"
   ]
  },
  {
   "cell_type": "code",
   "execution_count": 59,
   "id": "5fd7b415",
   "metadata": {},
   "outputs": [
    {
     "name": "stdout",
     "output_type": "stream",
     "text": [
      "1 2 3\n"
     ]
    }
   ],
   "source": [
    "a = sid(1)\n",
    "b = sid(2)\n",
    "c = sid(3)\n",
    "print(a.id,b.id,c.id)\n"
   ]
  },
  {
   "cell_type": "code",
   "execution_count": 61,
   "id": "932de5f9",
   "metadata": {},
   "outputs": [
    {
     "data": {
      "text/plain": [
       "0"
      ]
     },
     "execution_count": 61,
     "metadata": {},
     "output_type": "execute_result"
    }
   ],
   "source": [
    "sid.id"
   ]
  },
  {
   "cell_type": "code",
   "execution_count": 63,
   "id": "fe50eb38",
   "metadata": {},
   "outputs": [],
   "source": [
    "class lid:\n",
    "    id = 0\n",
    "    id2 = 1\n",
    "    def __init__(self):\n",
    "        pass\n",
    "    def update_id(self,iid):\n",
    "        lid.id = iid"
   ]
  },
  {
   "cell_type": "code",
   "execution_count": 65,
   "id": "f844277a",
   "metadata": {},
   "outputs": [
    {
     "name": "stdout",
     "output_type": "stream",
     "text": [
      "7 7 7\n"
     ]
    }
   ],
   "source": [
    "a = lid()\n",
    "a.update_id(7)\n",
    "b = lid()\n",
    "c = lid()\n",
    "print(a.id,b.id,c.id)"
   ]
  },
  {
   "cell_type": "code",
   "execution_count": 66,
   "id": "fb5cb994",
   "metadata": {},
   "outputs": [
    {
     "name": "stdout",
     "output_type": "stream",
     "text": [
      "7\n"
     ]
    }
   ],
   "source": [
    "print(lid.id)"
   ]
  },
  {
   "cell_type": "code",
   "execution_count": 68,
   "id": "bcbf8838",
   "metadata": {},
   "outputs": [],
   "source": [
    "class pid:\n",
    "    def __init__ (self,num):\n",
    "        pid.x = num"
   ]
  },
  {
   "cell_type": "code",
   "execution_count": 69,
   "id": "ac99235a",
   "metadata": {},
   "outputs": [
    {
     "ename": "AttributeError",
     "evalue": "type object 'pid' has no attribute 'x'",
     "output_type": "error",
     "traceback": [
      "\u001b[1;31m---------------------------------------------------------------------------\u001b[0m",
      "\u001b[1;31mAttributeError\u001b[0m                            Traceback (most recent call last)",
      "\u001b[1;32m<ipython-input-69-72ebb9da296a>\u001b[0m in \u001b[0;36m<module>\u001b[1;34m\u001b[0m\n\u001b[1;32m----> 1\u001b[1;33m \u001b[0mprint\u001b[0m\u001b[1;33m(\u001b[0m\u001b[0mpid\u001b[0m\u001b[1;33m.\u001b[0m\u001b[0mx\u001b[0m\u001b[1;33m)\u001b[0m\u001b[1;33m\u001b[0m\u001b[1;33m\u001b[0m\u001b[0m\n\u001b[0m",
      "\u001b[1;31mAttributeError\u001b[0m: type object 'pid' has no attribute 'x'"
     ]
    }
   ],
   "source": [
    "print(pid.x)"
   ]
  },
  {
   "cell_type": "code",
   "execution_count": 70,
   "id": "1df30396",
   "metadata": {},
   "outputs": [],
   "source": [
    "a = pid(10)"
   ]
  },
  {
   "cell_type": "code",
   "execution_count": 71,
   "id": "220043e6",
   "metadata": {},
   "outputs": [
    {
     "name": "stdout",
     "output_type": "stream",
     "text": [
      "10\n"
     ]
    }
   ],
   "source": [
    "print(pid.x)"
   ]
  },
  {
   "cell_type": "code",
   "execution_count": 75,
   "id": "fb2262f9",
   "metadata": {},
   "outputs": [],
   "source": [
    "class mtc:\n",
    "    mc = 0\n",
    "    def __init__(self):\n",
    "        mtc.mc += 1\n",
    "    def __del__(self):\n",
    "        mtc.mc -= 1"
   ]
  },
  {
   "cell_type": "code",
   "execution_count": 79,
   "id": "450f77e6",
   "metadata": {},
   "outputs": [
    {
     "name": "stdout",
     "output_type": "stream",
     "text": [
      "3\n"
     ]
    }
   ],
   "source": [
    "a = mtc()\n",
    "b = mtc()\n",
    "c = mtc()\n",
    "print(a.mc)"
   ]
  },
  {
   "cell_type": "code",
   "execution_count": 80,
   "id": "1637e6ee",
   "metadata": {},
   "outputs": [],
   "source": [
    "del(c)"
   ]
  },
  {
   "cell_type": "code",
   "execution_count": 82,
   "id": "8702c79b",
   "metadata": {},
   "outputs": [
    {
     "name": "stdout",
     "output_type": "stream",
     "text": [
      "2\n"
     ]
    }
   ],
   "source": [
    "a = mtc()\n",
    "print(a.mc)"
   ]
  },
  {
   "cell_type": "code",
   "execution_count": 83,
   "id": "0abd557c",
   "metadata": {},
   "outputs": [
    {
     "name": "stdout",
     "output_type": "stream",
     "text": [
      "3\n",
      "2\n"
     ]
    }
   ],
   "source": [
    "def id_test():\n",
    "    temp=mtc()\n",
    "    print(temp.mc)\n",
    "    return\n",
    "id_test()\n",
    "print(a.mc)"
   ]
  },
  {
   "cell_type": "code",
   "execution_count": 86,
   "id": "e84dc5bd",
   "metadata": {},
   "outputs": [],
   "source": [
    "# lets wrangle some data\n",
    "#abstract class\n",
    "class adstract_wrangler:\n",
    "    def __init__(self):\n",
    "        print('ready to wrangle!')\n",
    "    def wrangle(self):\n",
    "        pass"
   ]
  },
  {
   "cell_type": "code",
   "execution_count": 101,
   "id": "9a38ee9b",
   "metadata": {},
   "outputs": [],
   "source": [
    "class wrangler_A(adstract_wrangler):\n",
    "    def __init__ (self):\n",
    "        super().__init__()\n",
    "        self.dat_type = 'A'\n",
    "    def wrangle(self,data):\n",
    "        print('sucessfully wrangled data:{0} of type {1}'.format(data,self.dat_type))"
   ]
  },
  {
   "cell_type": "code",
   "execution_count": 99,
   "id": "ddda2aa0",
   "metadata": {},
   "outputs": [
    {
     "name": "stdout",
     "output_type": "stream",
     "text": [
      "ready to wrangle!\n"
     ]
    }
   ],
   "source": [
    "w = wrangler_A()"
   ]
  },
  {
   "cell_type": "code",
   "execution_count": 100,
   "id": "c6f55c45",
   "metadata": {},
   "outputs": [
    {
     "name": "stdout",
     "output_type": "stream",
     "text": [
      "sucessfully wrangled data:[1, 2, 3, 4]\n"
     ]
    }
   ],
   "source": [
    "w.wrangle([1,2,3,4])"
   ]
  },
  {
   "cell_type": "code",
   "execution_count": 103,
   "id": "27426ef9",
   "metadata": {},
   "outputs": [],
   "source": [
    "wrangle_dict = {'A':wrangler_A}"
   ]
  },
  {
   "cell_type": "code",
   "execution_count": 104,
   "id": "80f57f64",
   "metadata": {},
   "outputs": [],
   "source": [
    "user_input = \"A\""
   ]
  },
  {
   "cell_type": "code",
   "execution_count": 106,
   "id": "63a88c01",
   "metadata": {},
   "outputs": [
    {
     "name": "stdout",
     "output_type": "stream",
     "text": [
      "ready to wrangle!\n"
     ]
    }
   ],
   "source": [
    "w_new = wrangle_dict[user_input]()"
   ]
  },
  {
   "cell_type": "code",
   "execution_count": 108,
   "id": "f775072a",
   "metadata": {},
   "outputs": [
    {
     "name": "stdout",
     "output_type": "stream",
     "text": [
      "sucessfully wrangled data:['a', 'b', 'd', 'c'] of type A\n"
     ]
    }
   ],
   "source": [
    "w_new.wrangle(['a','b','d','c'])"
   ]
  },
  {
   "cell_type": "markdown",
   "id": "e1b218c0",
   "metadata": {},
   "source": []
  },
  {
   "cell_type": "markdown",
   "id": "41f7be19",
   "metadata": {},
   "source": []
  },
  {
   "cell_type": "markdown",
   "id": "98a1f0e5",
   "metadata": {},
   "source": []
  },
  {
   "cell_type": "markdown",
   "id": "9ddc4b3f",
   "metadata": {},
   "source": []
  },
  {
   "cell_type": "markdown",
   "id": "0f7a638f",
   "metadata": {},
   "source": [
    "There are many wasy to store and import data in Python\n",
    "\n",
    "Many packages like pandas, numpy, etc offer thier own methods to store and retrieve data.\n",
    "\n",
    "There are special packages just to store and read data: json, xsl, cvs, pickle, etc\n",
    "\n",
    "A lot of data is stored as plain txt. Avoids issues with file formats no longer being supported. "
   ]
  },
  {
   "cell_type": "code",
   "execution_count": 110,
   "id": "3e131e74",
   "metadata": {},
   "outputs": [
    {
     "name": "stdout",
     "output_type": "stream",
     "text": [
      "<_io.TextIOWrapper name='random.txt' mode='rt' encoding='cp1252'>\n"
     ]
    }
   ],
   "source": [
    "# open a file\n",
    "f = open('random.txt', 'rt')\n",
    "print(f)"
   ]
  },
  {
   "cell_type": "code",
   "execution_count": 111,
   "id": "1d58fcf3",
   "metadata": {},
   "outputs": [],
   "source": [
    "data = f.read()"
   ]
  },
  {
   "cell_type": "code",
   "execution_count": 112,
   "id": "e82a871c",
   "metadata": {},
   "outputs": [
    {
     "name": "stdout",
     "output_type": "stream",
     "text": [
      "hello!! this is a randomly written text file.\n",
      "\n"
     ]
    }
   ],
   "source": [
    "print(data)"
   ]
  },
  {
   "cell_type": "code",
   "execution_count": 113,
   "id": "586ea929",
   "metadata": {},
   "outputs": [
    {
     "data": {
      "text/plain": [
       "str"
      ]
     },
     "execution_count": 113,
     "metadata": {},
     "output_type": "execute_result"
    }
   ],
   "source": [
    "type(data)"
   ]
  },
  {
   "cell_type": "code",
   "execution_count": 115,
   "id": "45b808b9",
   "metadata": {},
   "outputs": [],
   "source": [
    "f.close()"
   ]
  },
  {
   "cell_type": "code",
   "execution_count": 116,
   "id": "75b20a27",
   "metadata": {},
   "outputs": [
    {
     "name": "stdout",
     "output_type": "stream",
     "text": [
      "HELLO!! THIS IS A RANDOMLY WRITTEN TEXT FILE.\n",
      "\n"
     ]
    }
   ],
   "source": [
    "u_data = data.upper()\n",
    "print(u_data)"
   ]
  },
  {
   "cell_type": "code",
   "execution_count": 117,
   "id": "137d5257",
   "metadata": {},
   "outputs": [],
   "source": [
    "f=open('my_text_upper.txt','wt')"
   ]
  },
  {
   "cell_type": "code",
   "execution_count": 118,
   "id": "3ae42082",
   "metadata": {},
   "outputs": [
    {
     "data": {
      "text/plain": [
       "46"
      ]
     },
     "execution_count": 118,
     "metadata": {},
     "output_type": "execute_result"
    }
   ],
   "source": [
    "f.write(u_data)"
   ]
  },
  {
   "cell_type": "code",
   "execution_count": 119,
   "id": "189b75e3",
   "metadata": {},
   "outputs": [],
   "source": [
    "f.close()"
   ]
  },
  {
   "cell_type": "code",
   "execution_count": 120,
   "id": "24eca22a",
   "metadata": {},
   "outputs": [],
   "source": [
    "l = list(range(10))"
   ]
  },
  {
   "cell_type": "code",
   "execution_count": 121,
   "id": "726140ef",
   "metadata": {},
   "outputs": [
    {
     "name": "stdout",
     "output_type": "stream",
     "text": [
      "[0, 1, 2, 3, 4, 5, 6, 7, 8, 9]\n"
     ]
    }
   ],
   "source": [
    "print(l)"
   ]
  },
  {
   "cell_type": "code",
   "execution_count": 123,
   "id": "da41d7a2",
   "metadata": {},
   "outputs": [
    {
     "name": "stdout",
     "output_type": "stream",
     "text": [
      "['0', '1', '2', '3', '4', '5', '6', '7', '8', '9']\n"
     ]
    }
   ],
   "source": [
    "# convert to string\n",
    "ls = map(str,l)\n",
    "ls = list(ls)\n",
    "print(ls)\n"
   ]
  },
  {
   "cell_type": "code",
   "execution_count": 124,
   "id": "503c5294",
   "metadata": {},
   "outputs": [],
   "source": [
    "# join those characters into a single string\n",
    "data_to_write = '\\t'.join(ls)"
   ]
  },
  {
   "cell_type": "code",
   "execution_count": 125,
   "id": "51f74ea0",
   "metadata": {},
   "outputs": [
    {
     "name": "stdout",
     "output_type": "stream",
     "text": [
      "0\t1\t2\t3\t4\t5\t6\t7\t8\t9\n"
     ]
    }
   ],
   "source": [
    "print(data_to_write)"
   ]
  },
  {
   "cell_type": "code",
   "execution_count": 128,
   "id": "bd8a992a",
   "metadata": {},
   "outputs": [],
   "source": [
    "with open(\"store_list_in_line.txt\",'wt') as f:\n",
    "    f.write(data_to_write)"
   ]
  },
  {
   "cell_type": "code",
   "execution_count": 131,
   "id": "a4a9de68",
   "metadata": {},
   "outputs": [
    {
     "ename": "TypeError",
     "evalue": "'str' object is not callable",
     "output_type": "error",
     "traceback": [
      "\u001b[1;31m---------------------------------------------------------------------------\u001b[0m",
      "\u001b[1;31mTypeError\u001b[0m                                 Traceback (most recent call last)",
      "\u001b[1;32m<ipython-input-131-3ed1e7a6bcc5>\u001b[0m in \u001b[0;36m<module>\u001b[1;34m\u001b[0m\n\u001b[0;32m      2\u001b[0m \u001b[1;32mwith\u001b[0m \u001b[0mopen\u001b[0m\u001b[1;33m(\u001b[0m\u001b[1;34m'store_list.txt'\u001b[0m\u001b[1;33m,\u001b[0m\u001b[1;34m'wt'\u001b[0m\u001b[1;33m)\u001b[0m \u001b[1;32mas\u001b[0m \u001b[0mf\u001b[0m\u001b[1;33m:\u001b[0m\u001b[1;33m\u001b[0m\u001b[1;33m\u001b[0m\u001b[0m\n\u001b[0;32m      3\u001b[0m     \u001b[1;32mfor\u001b[0m \u001b[0mitem\u001b[0m \u001b[1;32min\u001b[0m \u001b[0ml\u001b[0m\u001b[1;33m:\u001b[0m\u001b[1;33m\u001b[0m\u001b[1;33m\u001b[0m\u001b[0m\n\u001b[1;32m----> 4\u001b[1;33m         \u001b[0mf\u001b[0m\u001b[1;33m.\u001b[0m\u001b[0mwrite\u001b[0m\u001b[1;33m(\u001b[0m\u001b[0mst\u001b[0m\u001b[1;33m(\u001b[0m\u001b[0mitem\u001b[0m\u001b[1;33m)\u001b[0m\u001b[1;33m+\u001b[0m\u001b[1;34m'\\n'\u001b[0m\u001b[1;33m)\u001b[0m\u001b[1;33m\u001b[0m\u001b[1;33m\u001b[0m\u001b[0m\n\u001b[0m",
      "\u001b[1;31mTypeError\u001b[0m: 'str' object is not callable"
     ]
    }
   ],
   "source": [
    "l = [\"hello\",123,12.8, 'foo']\n",
    "with open('store_list.txt','wt') as f:\n",
    "    for item in l:\n",
    "        f.write(st(item)+'\\n')"
   ]
  }
 ],
 "metadata": {
  "kernelspec": {
   "display_name": "Python 3",
   "language": "python",
   "name": "python3"
  },
  "language_info": {
   "codemirror_mode": {
    "name": "ipython",
    "version": 3
   },
   "file_extension": ".py",
   "mimetype": "text/x-python",
   "name": "python",
   "nbconvert_exporter": "python",
   "pygments_lexer": "ipython3",
   "version": "3.8.8"
  }
 },
 "nbformat": 4,
 "nbformat_minor": 5
}

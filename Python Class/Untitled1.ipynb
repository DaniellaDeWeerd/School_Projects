{
 "cells": [
  {
   "cell_type": "code",
   "execution_count": 2,
   "id": "6cb0a43d",
   "metadata": {},
   "outputs": [],
   "source": [
    "d = {'hello': 'privet', 'gibberish': \"abracadabra\", 'yes':'da'}\n",
    "with open('store_dict.txt','wt') as f:\n",
    "    for k in d.keys():\n",
    "        f.write(str(k)+'\\t' +str(d[k])+ '\\n')"
   ]
  },
  {
   "cell_type": "code",
   "execution_count": 27,
   "id": "22664c43",
   "metadata": {},
   "outputs": [
    {
     "name": "stdout",
     "output_type": "stream",
     "text": [
      "hello\tprivet\n",
      "gibberish\tabracadabra\n",
      "yes\tda\n",
      "\n",
      "['hello\\tprivet', 'gibberish\\tabracadabra', 'yes\\tda', '']\n",
      "hello\tprivet\n",
      "new stuff ['hello', 'privet']\n",
      "{'hello': 'privet'}\n",
      "gibberish\tabracadabra\n",
      "new stuff ['gibberish', 'abracadabra']\n",
      "{'hello': 'privet', 'gibberish': 'abracadabra'}\n",
      "yes\tda\n",
      "new stuff ['yes', 'da']\n",
      "{'hello': 'privet', 'gibberish': 'abracadabra', 'yes': 'da'}\n"
     ]
    }
   ],
   "source": [
    "f = open('store_dict.txt', 'r').read()\n",
    "string = str(f)\n",
    "print(string)\n",
    "stuff = string.split(\"\\n\")\n",
    "print(stuff)\n",
    "dictionary = {}\n",
    "for combo in stuff:\n",
    "    if combo != \"\":\n",
    "        print(combo)\n",
    "        new_stuff = combo.split(\"\\t\")\n",
    "        print(\"new stuff\",new_stuff)\n",
    "        key = str(new_stuff[0])\n",
    "        value = str(new_stuff[1])\n",
    "        dictionary[key] =value\n",
    "        print(dictionary)"
   ]
  },
  {
   "cell_type": "code",
   "execution_count": null,
   "id": "b6842da6",
   "metadata": {},
   "outputs": [],
   "source": []
  }
 ],
 "metadata": {
  "kernelspec": {
   "display_name": "Python 3",
   "language": "python",
   "name": "python3"
  },
  "language_info": {
   "codemirror_mode": {
    "name": "ipython",
    "version": 3
   },
   "file_extension": ".py",
   "mimetype": "text/x-python",
   "name": "python",
   "nbconvert_exporter": "python",
   "pygments_lexer": "ipython3",
   "version": "3.8.8"
  }
 },
 "nbformat": 4,
 "nbformat_minor": 5
}

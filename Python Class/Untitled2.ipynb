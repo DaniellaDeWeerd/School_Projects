{
 "cells": [
  {
   "cell_type": "code",
   "execution_count": 1,
   "id": "44b53855",
   "metadata": {},
   "outputs": [],
   "source": [
    "import random\n",
    "import os.path\n",
    "\n",
    "inventory = {}\n",
    "level = 0\n",
    "turns = 0"
   ]
  },
  {
   "cell_type": "markdown",
   "id": "76985c9c",
   "metadata": {},
   "source": [
    "import libraries and set global variables"
   ]
  },
  {
   "cell_type": "code",
   "execution_count": null,
   "id": "84c4f075",
   "metadata": {},
   "outputs": [],
   "source": []
  }
 ],
 "metadata": {
  "kernelspec": {
   "display_name": "Python 3",
   "language": "python",
   "name": "python3"
  },
  "language_info": {
   "codemirror_mode": {
    "name": "ipython",
    "version": 3
   },
   "file_extension": ".py",
   "mimetype": "text/x-python",
   "name": "python",
   "nbconvert_exporter": "python",
   "pygments_lexer": "ipython3",
   "version": "3.8.8"
  }
 },
 "nbformat": 4,
 "nbformat_minor": 5
}
